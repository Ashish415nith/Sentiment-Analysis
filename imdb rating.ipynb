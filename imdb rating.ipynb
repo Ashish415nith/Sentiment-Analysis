{
 "cells": [
  {
   "cell_type": "code",
   "execution_count": 2,
   "metadata": {},
   "outputs": [],
   "source": [
    "import pandas as pd\n",
    "import numpy as np\n",
    "import nltk"
   ]
  },
  {
   "cell_type": "code",
   "execution_count": 3,
   "metadata": {},
   "outputs": [],
   "source": [
    "review_data = pd.read_csv('IMDB Dataset.csv',nrows=10000)"
   ]
  },
  {
   "cell_type": "code",
   "execution_count": 4,
   "metadata": {},
   "outputs": [
    {
     "data": {
      "text/plain": [
       "(10000, 2)"
      ]
     },
     "execution_count": 4,
     "metadata": {},
     "output_type": "execute_result"
    }
   ],
   "source": [
    "review_data.shape"
   ]
  },
  {
   "cell_type": "code",
   "execution_count": 5,
   "metadata": {},
   "outputs": [
    {
     "name": "stdout",
     "output_type": "stream",
     "text": [
      "<class 'pandas.core.frame.DataFrame'>\n",
      "RangeIndex: 10000 entries, 0 to 9999\n",
      "Data columns (total 2 columns):\n",
      " #   Column     Non-Null Count  Dtype \n",
      "---  ------     --------------  ----- \n",
      " 0   review     10000 non-null  object\n",
      " 1   sentiment  10000 non-null  object\n",
      "dtypes: object(2)\n",
      "memory usage: 78.2+ KB\n"
     ]
    }
   ],
   "source": [
    "review_data.info()"
   ]
  },
  {
   "cell_type": "code",
   "execution_count": 6,
   "metadata": {},
   "outputs": [
    {
     "data": {
      "text/html": [
       "<div>\n",
       "<style scoped>\n",
       "    .dataframe tbody tr th:only-of-type {\n",
       "        vertical-align: middle;\n",
       "    }\n",
       "\n",
       "    .dataframe tbody tr th {\n",
       "        vertical-align: top;\n",
       "    }\n",
       "\n",
       "    .dataframe thead th {\n",
       "        text-align: right;\n",
       "    }\n",
       "</style>\n",
       "<table border=\"1\" class=\"dataframe\">\n",
       "  <thead>\n",
       "    <tr style=\"text-align: right;\">\n",
       "      <th></th>\n",
       "      <th>review</th>\n",
       "      <th>sentiment</th>\n",
       "    </tr>\n",
       "  </thead>\n",
       "  <tbody>\n",
       "    <tr>\n",
       "      <th>0</th>\n",
       "      <td>One of the other reviewers has mentioned that ...</td>\n",
       "      <td>positive</td>\n",
       "    </tr>\n",
       "    <tr>\n",
       "      <th>1</th>\n",
       "      <td>A wonderful little production. &lt;br /&gt;&lt;br /&gt;The...</td>\n",
       "      <td>positive</td>\n",
       "    </tr>\n",
       "    <tr>\n",
       "      <th>2</th>\n",
       "      <td>I thought this was a wonderful way to spend ti...</td>\n",
       "      <td>positive</td>\n",
       "    </tr>\n",
       "    <tr>\n",
       "      <th>3</th>\n",
       "      <td>Basically there's a family where a little boy ...</td>\n",
       "      <td>negative</td>\n",
       "    </tr>\n",
       "    <tr>\n",
       "      <th>4</th>\n",
       "      <td>Petter Mattei's \"Love in the Time of Money\" is...</td>\n",
       "      <td>positive</td>\n",
       "    </tr>\n",
       "  </tbody>\n",
       "</table>\n",
       "</div>"
      ],
      "text/plain": [
       "                                              review sentiment\n",
       "0  One of the other reviewers has mentioned that ...  positive\n",
       "1  A wonderful little production. <br /><br />The...  positive\n",
       "2  I thought this was a wonderful way to spend ti...  positive\n",
       "3  Basically there's a family where a little boy ...  negative\n",
       "4  Petter Mattei's \"Love in the Time of Money\" is...  positive"
      ]
     },
     "execution_count": 6,
     "metadata": {},
     "output_type": "execute_result"
    }
   ],
   "source": [
    "review_data.head()"
   ]
  },
  {
   "cell_type": "code",
   "execution_count": 7,
   "metadata": {},
   "outputs": [],
   "source": [
    "import re"
   ]
  },
  {
   "cell_type": "code",
   "execution_count": 8,
   "metadata": {},
   "outputs": [],
   "source": [
    "def data_cleaning(text):\n",
    "    clean_text = re.sub('[^A-Za-z]+',\" \",text)\n",
    "    return clean_text"
   ]
  },
  {
   "cell_type": "code",
   "execution_count": 9,
   "metadata": {},
   "outputs": [],
   "source": [
    "review_data[\"review\"]=review_data[\"review\"].apply(lambda text: data_cleaning(text))"
   ]
  },
  {
   "cell_type": "code",
   "execution_count": 10,
   "metadata": {},
   "outputs": [],
   "source": [
    "review_data[\"review\"]=review_data[\"review\"].apply(lambda text: text.lower())"
   ]
  },
  {
   "cell_type": "code",
   "execution_count": 11,
   "metadata": {},
   "outputs": [],
   "source": [
    "review_data['token_text'] = review_data['review'].apply(lambda text : text.split())"
   ]
  },
  {
   "cell_type": "code",
   "execution_count": 12,
   "metadata": {},
   "outputs": [
    {
     "data": {
      "text/html": [
       "<div>\n",
       "<style scoped>\n",
       "    .dataframe tbody tr th:only-of-type {\n",
       "        vertical-align: middle;\n",
       "    }\n",
       "\n",
       "    .dataframe tbody tr th {\n",
       "        vertical-align: top;\n",
       "    }\n",
       "\n",
       "    .dataframe thead th {\n",
       "        text-align: right;\n",
       "    }\n",
       "</style>\n",
       "<table border=\"1\" class=\"dataframe\">\n",
       "  <thead>\n",
       "    <tr style=\"text-align: right;\">\n",
       "      <th></th>\n",
       "      <th>review</th>\n",
       "      <th>sentiment</th>\n",
       "      <th>token_text</th>\n",
       "    </tr>\n",
       "  </thead>\n",
       "  <tbody>\n",
       "    <tr>\n",
       "      <th>0</th>\n",
       "      <td>one of the other reviewers has mentioned that ...</td>\n",
       "      <td>positive</td>\n",
       "      <td>[one, of, the, other, reviewers, has, mentione...</td>\n",
       "    </tr>\n",
       "    <tr>\n",
       "      <th>1</th>\n",
       "      <td>a wonderful little production br br the filmin...</td>\n",
       "      <td>positive</td>\n",
       "      <td>[a, wonderful, little, production, br, br, the...</td>\n",
       "    </tr>\n",
       "    <tr>\n",
       "      <th>2</th>\n",
       "      <td>i thought this was a wonderful way to spend ti...</td>\n",
       "      <td>positive</td>\n",
       "      <td>[i, thought, this, was, a, wonderful, way, to,...</td>\n",
       "    </tr>\n",
       "    <tr>\n",
       "      <th>3</th>\n",
       "      <td>basically there s a family where a little boy ...</td>\n",
       "      <td>negative</td>\n",
       "      <td>[basically, there, s, a, family, where, a, lit...</td>\n",
       "    </tr>\n",
       "    <tr>\n",
       "      <th>4</th>\n",
       "      <td>petter mattei s love in the time of money is a...</td>\n",
       "      <td>positive</td>\n",
       "      <td>[petter, mattei, s, love, in, the, time, of, m...</td>\n",
       "    </tr>\n",
       "    <tr>\n",
       "      <th>...</th>\n",
       "      <td>...</td>\n",
       "      <td>...</td>\n",
       "      <td>...</td>\n",
       "    </tr>\n",
       "    <tr>\n",
       "      <th>9995</th>\n",
       "      <td>fun entertaining movie about wwii german spy j...</td>\n",
       "      <td>positive</td>\n",
       "      <td>[fun, entertaining, movie, about, wwii, german...</td>\n",
       "    </tr>\n",
       "    <tr>\n",
       "      <th>9996</th>\n",
       "      <td>give me a break how can anyone say that this i...</td>\n",
       "      <td>negative</td>\n",
       "      <td>[give, me, a, break, how, can, anyone, say, th...</td>\n",
       "    </tr>\n",
       "    <tr>\n",
       "      <th>9997</th>\n",
       "      <td>this movie is a bad movie but after watching a...</td>\n",
       "      <td>negative</td>\n",
       "      <td>[this, movie, is, a, bad, movie, but, after, w...</td>\n",
       "    </tr>\n",
       "    <tr>\n",
       "      <th>9998</th>\n",
       "      <td>this is a movie that was probably made to ente...</td>\n",
       "      <td>negative</td>\n",
       "      <td>[this, is, a, movie, that, was, probably, made...</td>\n",
       "    </tr>\n",
       "    <tr>\n",
       "      <th>9999</th>\n",
       "      <td>smashing film about film making shows the inte...</td>\n",
       "      <td>positive</td>\n",
       "      <td>[smashing, film, about, film, making, shows, t...</td>\n",
       "    </tr>\n",
       "  </tbody>\n",
       "</table>\n",
       "<p>10000 rows × 3 columns</p>\n",
       "</div>"
      ],
      "text/plain": [
       "                                                 review sentiment  \\\n",
       "0     one of the other reviewers has mentioned that ...  positive   \n",
       "1     a wonderful little production br br the filmin...  positive   \n",
       "2     i thought this was a wonderful way to spend ti...  positive   \n",
       "3     basically there s a family where a little boy ...  negative   \n",
       "4     petter mattei s love in the time of money is a...  positive   \n",
       "...                                                 ...       ...   \n",
       "9995  fun entertaining movie about wwii german spy j...  positive   \n",
       "9996  give me a break how can anyone say that this i...  negative   \n",
       "9997  this movie is a bad movie but after watching a...  negative   \n",
       "9998  this is a movie that was probably made to ente...  negative   \n",
       "9999  smashing film about film making shows the inte...  positive   \n",
       "\n",
       "                                             token_text  \n",
       "0     [one, of, the, other, reviewers, has, mentione...  \n",
       "1     [a, wonderful, little, production, br, br, the...  \n",
       "2     [i, thought, this, was, a, wonderful, way, to,...  \n",
       "3     [basically, there, s, a, family, where, a, lit...  \n",
       "4     [petter, mattei, s, love, in, the, time, of, m...  \n",
       "...                                                 ...  \n",
       "9995  [fun, entertaining, movie, about, wwii, german...  \n",
       "9996  [give, me, a, break, how, can, anyone, say, th...  \n",
       "9997  [this, movie, is, a, bad, movie, but, after, w...  \n",
       "9998  [this, is, a, movie, that, was, probably, made...  \n",
       "9999  [smashing, film, about, film, making, shows, t...  \n",
       "\n",
       "[10000 rows x 3 columns]"
      ]
     },
     "execution_count": 12,
     "metadata": {},
     "output_type": "execute_result"
    }
   ],
   "source": [
    "review_data"
   ]
  },
  {
   "cell_type": "code",
   "execution_count": 13,
   "metadata": {},
   "outputs": [
    {
     "name": "stderr",
     "output_type": "stream",
     "text": [
      "[nltk_data] Downloading package stopwords to\n",
      "[nltk_data]     C:\\Users\\ashish\\AppData\\Roaming\\nltk_data...\n",
      "[nltk_data]   Package stopwords is already up-to-date!\n"
     ]
    }
   ],
   "source": [
    "nltk.download('stopwords')\n",
    "from nltk.corpus import stopwords"
   ]
  },
  {
   "cell_type": "code",
   "execution_count": 14,
   "metadata": {},
   "outputs": [
    {
     "data": {
      "text/plain": [
       "['i',\n",
       " 'me',\n",
       " 'my',\n",
       " 'myself',\n",
       " 'we',\n",
       " 'our',\n",
       " 'ours',\n",
       " 'ourselves',\n",
       " 'you',\n",
       " \"you're\",\n",
       " \"you've\",\n",
       " \"you'll\",\n",
       " \"you'd\",\n",
       " 'your',\n",
       " 'yours',\n",
       " 'yourself',\n",
       " 'yourselves',\n",
       " 'he',\n",
       " 'him',\n",
       " 'his',\n",
       " 'himself',\n",
       " 'she',\n",
       " \"she's\",\n",
       " 'her',\n",
       " 'hers',\n",
       " 'herself',\n",
       " 'it',\n",
       " \"it's\",\n",
       " 'its',\n",
       " 'itself',\n",
       " 'they',\n",
       " 'them',\n",
       " 'their',\n",
       " 'theirs',\n",
       " 'themselves',\n",
       " 'what',\n",
       " 'which',\n",
       " 'who',\n",
       " 'whom',\n",
       " 'this',\n",
       " 'that',\n",
       " \"that'll\",\n",
       " 'these',\n",
       " 'those',\n",
       " 'am',\n",
       " 'is',\n",
       " 'are',\n",
       " 'was',\n",
       " 'were',\n",
       " 'be',\n",
       " 'been',\n",
       " 'being',\n",
       " 'have',\n",
       " 'has',\n",
       " 'had',\n",
       " 'having',\n",
       " 'do',\n",
       " 'does',\n",
       " 'did',\n",
       " 'doing',\n",
       " 'a',\n",
       " 'an',\n",
       " 'the',\n",
       " 'and',\n",
       " 'but',\n",
       " 'if',\n",
       " 'or',\n",
       " 'because',\n",
       " 'as',\n",
       " 'until',\n",
       " 'while',\n",
       " 'of',\n",
       " 'at',\n",
       " 'by',\n",
       " 'for',\n",
       " 'with',\n",
       " 'about',\n",
       " 'against',\n",
       " 'between',\n",
       " 'into',\n",
       " 'through',\n",
       " 'during',\n",
       " 'before',\n",
       " 'after',\n",
       " 'above',\n",
       " 'below',\n",
       " 'to',\n",
       " 'from',\n",
       " 'up',\n",
       " 'down',\n",
       " 'in',\n",
       " 'out',\n",
       " 'on',\n",
       " 'off',\n",
       " 'over',\n",
       " 'under',\n",
       " 'again',\n",
       " 'further',\n",
       " 'then',\n",
       " 'once',\n",
       " 'here',\n",
       " 'there',\n",
       " 'when',\n",
       " 'where',\n",
       " 'why',\n",
       " 'how',\n",
       " 'all',\n",
       " 'any',\n",
       " 'both',\n",
       " 'each',\n",
       " 'few',\n",
       " 'more',\n",
       " 'most',\n",
       " 'other',\n",
       " 'some',\n",
       " 'such',\n",
       " 'no',\n",
       " 'nor',\n",
       " 'not',\n",
       " 'only',\n",
       " 'own',\n",
       " 'same',\n",
       " 'so',\n",
       " 'than',\n",
       " 'too',\n",
       " 'very',\n",
       " 's',\n",
       " 't',\n",
       " 'can',\n",
       " 'will',\n",
       " 'just',\n",
       " 'don',\n",
       " \"don't\",\n",
       " 'should',\n",
       " \"should've\",\n",
       " 'now',\n",
       " 'd',\n",
       " 'll',\n",
       " 'm',\n",
       " 'o',\n",
       " 're',\n",
       " 've',\n",
       " 'y',\n",
       " 'ain',\n",
       " 'aren',\n",
       " \"aren't\",\n",
       " 'couldn',\n",
       " \"couldn't\",\n",
       " 'didn',\n",
       " \"didn't\",\n",
       " 'doesn',\n",
       " \"doesn't\",\n",
       " 'hadn',\n",
       " \"hadn't\",\n",
       " 'hasn',\n",
       " \"hasn't\",\n",
       " 'haven',\n",
       " \"haven't\",\n",
       " 'isn',\n",
       " \"isn't\",\n",
       " 'ma',\n",
       " 'mightn',\n",
       " \"mightn't\",\n",
       " 'mustn',\n",
       " \"mustn't\",\n",
       " 'needn',\n",
       " \"needn't\",\n",
       " 'shan',\n",
       " \"shan't\",\n",
       " 'shouldn',\n",
       " \"shouldn't\",\n",
       " 'wasn',\n",
       " \"wasn't\",\n",
       " 'weren',\n",
       " \"weren't\",\n",
       " 'won',\n",
       " \"won't\",\n",
       " 'wouldn',\n",
       " \"wouldn't\"]"
      ]
     },
     "execution_count": 14,
     "metadata": {},
     "output_type": "execute_result"
    }
   ],
   "source": [
    "stop_words = stopwords.words('english')\n",
    "stop_words"
   ]
  },
  {
   "cell_type": "code",
   "execution_count": 16,
   "metadata": {},
   "outputs": [],
   "source": [
    "def remove_stopwords(token_text):\n",
    "    words=[]\n",
    "    for word in token_text:\n",
    "        if word not in stop_words:\n",
    "            words.append(word)\n",
    "            \n",
    "    return words"
   ]
  },
  {
   "cell_type": "code",
   "execution_count": 17,
   "metadata": {},
   "outputs": [],
   "source": [
    "review_data['token_text'] = review_data['token_text'].apply(lambda token_text : remove_stopwords(token_text))"
   ]
  },
  {
   "cell_type": "code",
   "execution_count": 18,
   "metadata": {},
   "outputs": [
    {
     "data": {
      "text/html": [
       "<div>\n",
       "<style scoped>\n",
       "    .dataframe tbody tr th:only-of-type {\n",
       "        vertical-align: middle;\n",
       "    }\n",
       "\n",
       "    .dataframe tbody tr th {\n",
       "        vertical-align: top;\n",
       "    }\n",
       "\n",
       "    .dataframe thead th {\n",
       "        text-align: right;\n",
       "    }\n",
       "</style>\n",
       "<table border=\"1\" class=\"dataframe\">\n",
       "  <thead>\n",
       "    <tr style=\"text-align: right;\">\n",
       "      <th></th>\n",
       "      <th>review</th>\n",
       "      <th>sentiment</th>\n",
       "      <th>token_text</th>\n",
       "    </tr>\n",
       "  </thead>\n",
       "  <tbody>\n",
       "    <tr>\n",
       "      <th>0</th>\n",
       "      <td>one of the other reviewers has mentioned that ...</td>\n",
       "      <td>positive</td>\n",
       "      <td>[one, reviewers, mentioned, watching, oz, epis...</td>\n",
       "    </tr>\n",
       "    <tr>\n",
       "      <th>1</th>\n",
       "      <td>a wonderful little production br br the filmin...</td>\n",
       "      <td>positive</td>\n",
       "      <td>[wonderful, little, production, br, br, filmin...</td>\n",
       "    </tr>\n",
       "    <tr>\n",
       "      <th>2</th>\n",
       "      <td>i thought this was a wonderful way to spend ti...</td>\n",
       "      <td>positive</td>\n",
       "      <td>[thought, wonderful, way, spend, time, hot, su...</td>\n",
       "    </tr>\n",
       "    <tr>\n",
       "      <th>3</th>\n",
       "      <td>basically there s a family where a little boy ...</td>\n",
       "      <td>negative</td>\n",
       "      <td>[basically, family, little, boy, jake, thinks,...</td>\n",
       "    </tr>\n",
       "    <tr>\n",
       "      <th>4</th>\n",
       "      <td>petter mattei s love in the time of money is a...</td>\n",
       "      <td>positive</td>\n",
       "      <td>[petter, mattei, love, time, money, visually, ...</td>\n",
       "    </tr>\n",
       "    <tr>\n",
       "      <th>...</th>\n",
       "      <td>...</td>\n",
       "      <td>...</td>\n",
       "      <td>...</td>\n",
       "    </tr>\n",
       "    <tr>\n",
       "      <th>9995</th>\n",
       "      <td>fun entertaining movie about wwii german spy j...</td>\n",
       "      <td>positive</td>\n",
       "      <td>[fun, entertaining, movie, wwii, german, spy, ...</td>\n",
       "    </tr>\n",
       "    <tr>\n",
       "      <th>9996</th>\n",
       "      <td>give me a break how can anyone say that this i...</td>\n",
       "      <td>negative</td>\n",
       "      <td>[give, break, anyone, say, good, hockey, movie...</td>\n",
       "    </tr>\n",
       "    <tr>\n",
       "      <th>9997</th>\n",
       "      <td>this movie is a bad movie but after watching a...</td>\n",
       "      <td>negative</td>\n",
       "      <td>[movie, bad, movie, watching, endless, series,...</td>\n",
       "    </tr>\n",
       "    <tr>\n",
       "      <th>9998</th>\n",
       "      <td>this is a movie that was probably made to ente...</td>\n",
       "      <td>negative</td>\n",
       "      <td>[movie, probably, made, entertain, middle, sch...</td>\n",
       "    </tr>\n",
       "    <tr>\n",
       "      <th>9999</th>\n",
       "      <td>smashing film about film making shows the inte...</td>\n",
       "      <td>positive</td>\n",
       "      <td>[smashing, film, film, making, shows, intense,...</td>\n",
       "    </tr>\n",
       "  </tbody>\n",
       "</table>\n",
       "<p>10000 rows × 3 columns</p>\n",
       "</div>"
      ],
      "text/plain": [
       "                                                 review sentiment  \\\n",
       "0     one of the other reviewers has mentioned that ...  positive   \n",
       "1     a wonderful little production br br the filmin...  positive   \n",
       "2     i thought this was a wonderful way to spend ti...  positive   \n",
       "3     basically there s a family where a little boy ...  negative   \n",
       "4     petter mattei s love in the time of money is a...  positive   \n",
       "...                                                 ...       ...   \n",
       "9995  fun entertaining movie about wwii german spy j...  positive   \n",
       "9996  give me a break how can anyone say that this i...  negative   \n",
       "9997  this movie is a bad movie but after watching a...  negative   \n",
       "9998  this is a movie that was probably made to ente...  negative   \n",
       "9999  smashing film about film making shows the inte...  positive   \n",
       "\n",
       "                                             token_text  \n",
       "0     [one, reviewers, mentioned, watching, oz, epis...  \n",
       "1     [wonderful, little, production, br, br, filmin...  \n",
       "2     [thought, wonderful, way, spend, time, hot, su...  \n",
       "3     [basically, family, little, boy, jake, thinks,...  \n",
       "4     [petter, mattei, love, time, money, visually, ...  \n",
       "...                                                 ...  \n",
       "9995  [fun, entertaining, movie, wwii, german, spy, ...  \n",
       "9996  [give, break, anyone, say, good, hockey, movie...  \n",
       "9997  [movie, bad, movie, watching, endless, series,...  \n",
       "9998  [movie, probably, made, entertain, middle, sch...  \n",
       "9999  [smashing, film, film, making, shows, intense,...  \n",
       "\n",
       "[10000 rows x 3 columns]"
      ]
     },
     "execution_count": 18,
     "metadata": {},
     "output_type": "execute_result"
    }
   ],
   "source": [
    "review_data"
   ]
  },
  {
   "cell_type": "code",
   "execution_count": 19,
   "metadata": {},
   "outputs": [],
   "source": [
    "from nltk.stem import PorterStemmer    \n",
    "ps = PorterStemmer()"
   ]
  },
  {
   "cell_type": "code",
   "execution_count": 20,
   "metadata": {},
   "outputs": [],
   "source": [
    "def porter_stemming(token_text):\n",
    "    \n",
    "    stem_words=[]\n",
    "    for word in token_text:\n",
    "        stem_word = ps.stem(word)\n",
    "        stem_words.append(stem_word)\n",
    "        \n",
    "    return stem_words"
   ]
  },
  {
   "cell_type": "code",
   "execution_count": 21,
   "metadata": {},
   "outputs": [],
   "source": [
    "review_data[\"stem_words\"]=review_data[\"token_text\"].apply(lambda token_text : porter_stemming(token_text))"
   ]
  },
  {
   "cell_type": "code",
   "execution_count": 22,
   "metadata": {},
   "outputs": [
    {
     "data": {
      "text/html": [
       "<div>\n",
       "<style scoped>\n",
       "    .dataframe tbody tr th:only-of-type {\n",
       "        vertical-align: middle;\n",
       "    }\n",
       "\n",
       "    .dataframe tbody tr th {\n",
       "        vertical-align: top;\n",
       "    }\n",
       "\n",
       "    .dataframe thead th {\n",
       "        text-align: right;\n",
       "    }\n",
       "</style>\n",
       "<table border=\"1\" class=\"dataframe\">\n",
       "  <thead>\n",
       "    <tr style=\"text-align: right;\">\n",
       "      <th></th>\n",
       "      <th>review</th>\n",
       "      <th>sentiment</th>\n",
       "      <th>token_text</th>\n",
       "      <th>stem_words</th>\n",
       "    </tr>\n",
       "  </thead>\n",
       "  <tbody>\n",
       "    <tr>\n",
       "      <th>0</th>\n",
       "      <td>one of the other reviewers has mentioned that ...</td>\n",
       "      <td>positive</td>\n",
       "      <td>[one, reviewers, mentioned, watching, oz, epis...</td>\n",
       "      <td>[one, review, mention, watch, oz, episod, hook...</td>\n",
       "    </tr>\n",
       "    <tr>\n",
       "      <th>1</th>\n",
       "      <td>a wonderful little production br br the filmin...</td>\n",
       "      <td>positive</td>\n",
       "      <td>[wonderful, little, production, br, br, filmin...</td>\n",
       "      <td>[wonder, littl, product, br, br, film, techniq...</td>\n",
       "    </tr>\n",
       "    <tr>\n",
       "      <th>2</th>\n",
       "      <td>i thought this was a wonderful way to spend ti...</td>\n",
       "      <td>positive</td>\n",
       "      <td>[thought, wonderful, way, spend, time, hot, su...</td>\n",
       "      <td>[thought, wonder, way, spend, time, hot, summe...</td>\n",
       "    </tr>\n",
       "    <tr>\n",
       "      <th>3</th>\n",
       "      <td>basically there s a family where a little boy ...</td>\n",
       "      <td>negative</td>\n",
       "      <td>[basically, family, little, boy, jake, thinks,...</td>\n",
       "      <td>[basic, famili, littl, boy, jake, think, zombi...</td>\n",
       "    </tr>\n",
       "    <tr>\n",
       "      <th>4</th>\n",
       "      <td>petter mattei s love in the time of money is a...</td>\n",
       "      <td>positive</td>\n",
       "      <td>[petter, mattei, love, time, money, visually, ...</td>\n",
       "      <td>[petter, mattei, love, time, money, visual, st...</td>\n",
       "    </tr>\n",
       "    <tr>\n",
       "      <th>...</th>\n",
       "      <td>...</td>\n",
       "      <td>...</td>\n",
       "      <td>...</td>\n",
       "      <td>...</td>\n",
       "    </tr>\n",
       "    <tr>\n",
       "      <th>9995</th>\n",
       "      <td>fun entertaining movie about wwii german spy j...</td>\n",
       "      <td>positive</td>\n",
       "      <td>[fun, entertaining, movie, wwii, german, spy, ...</td>\n",
       "      <td>[fun, entertain, movi, wwii, german, spi, juli...</td>\n",
       "    </tr>\n",
       "    <tr>\n",
       "      <th>9996</th>\n",
       "      <td>give me a break how can anyone say that this i...</td>\n",
       "      <td>negative</td>\n",
       "      <td>[give, break, anyone, say, good, hockey, movie...</td>\n",
       "      <td>[give, break, anyon, say, good, hockey, movi, ...</td>\n",
       "    </tr>\n",
       "    <tr>\n",
       "      <th>9997</th>\n",
       "      <td>this movie is a bad movie but after watching a...</td>\n",
       "      <td>negative</td>\n",
       "      <td>[movie, bad, movie, watching, endless, series,...</td>\n",
       "      <td>[movi, bad, movi, watch, endless, seri, bad, h...</td>\n",
       "    </tr>\n",
       "    <tr>\n",
       "      <th>9998</th>\n",
       "      <td>this is a movie that was probably made to ente...</td>\n",
       "      <td>negative</td>\n",
       "      <td>[movie, probably, made, entertain, middle, sch...</td>\n",
       "      <td>[movi, probabl, made, entertain, middl, school...</td>\n",
       "    </tr>\n",
       "    <tr>\n",
       "      <th>9999</th>\n",
       "      <td>smashing film about film making shows the inte...</td>\n",
       "      <td>positive</td>\n",
       "      <td>[smashing, film, film, making, shows, intense,...</td>\n",
       "      <td>[smash, film, film, make, show, intens, strang...</td>\n",
       "    </tr>\n",
       "  </tbody>\n",
       "</table>\n",
       "<p>10000 rows × 4 columns</p>\n",
       "</div>"
      ],
      "text/plain": [
       "                                                 review sentiment  \\\n",
       "0     one of the other reviewers has mentioned that ...  positive   \n",
       "1     a wonderful little production br br the filmin...  positive   \n",
       "2     i thought this was a wonderful way to spend ti...  positive   \n",
       "3     basically there s a family where a little boy ...  negative   \n",
       "4     petter mattei s love in the time of money is a...  positive   \n",
       "...                                                 ...       ...   \n",
       "9995  fun entertaining movie about wwii german spy j...  positive   \n",
       "9996  give me a break how can anyone say that this i...  negative   \n",
       "9997  this movie is a bad movie but after watching a...  negative   \n",
       "9998  this is a movie that was probably made to ente...  negative   \n",
       "9999  smashing film about film making shows the inte...  positive   \n",
       "\n",
       "                                             token_text  \\\n",
       "0     [one, reviewers, mentioned, watching, oz, epis...   \n",
       "1     [wonderful, little, production, br, br, filmin...   \n",
       "2     [thought, wonderful, way, spend, time, hot, su...   \n",
       "3     [basically, family, little, boy, jake, thinks,...   \n",
       "4     [petter, mattei, love, time, money, visually, ...   \n",
       "...                                                 ...   \n",
       "9995  [fun, entertaining, movie, wwii, german, spy, ...   \n",
       "9996  [give, break, anyone, say, good, hockey, movie...   \n",
       "9997  [movie, bad, movie, watching, endless, series,...   \n",
       "9998  [movie, probably, made, entertain, middle, sch...   \n",
       "9999  [smashing, film, film, making, shows, intense,...   \n",
       "\n",
       "                                             stem_words  \n",
       "0     [one, review, mention, watch, oz, episod, hook...  \n",
       "1     [wonder, littl, product, br, br, film, techniq...  \n",
       "2     [thought, wonder, way, spend, time, hot, summe...  \n",
       "3     [basic, famili, littl, boy, jake, think, zombi...  \n",
       "4     [petter, mattei, love, time, money, visual, st...  \n",
       "...                                                 ...  \n",
       "9995  [fun, entertain, movi, wwii, german, spi, juli...  \n",
       "9996  [give, break, anyon, say, good, hockey, movi, ...  \n",
       "9997  [movi, bad, movi, watch, endless, seri, bad, h...  \n",
       "9998  [movi, probabl, made, entertain, middl, school...  \n",
       "9999  [smash, film, film, make, show, intens, strang...  \n",
       "\n",
       "[10000 rows x 4 columns]"
      ]
     },
     "execution_count": 22,
     "metadata": {},
     "output_type": "execute_result"
    }
   ],
   "source": [
    "review_data"
   ]
  },
  {
   "cell_type": "code",
   "execution_count": 23,
   "metadata": {},
   "outputs": [
    {
     "name": "stderr",
     "output_type": "stream",
     "text": [
      "[nltk_data] Downloading package wordnet to\n",
      "[nltk_data]     C:\\Users\\ashish\\AppData\\Roaming\\nltk_data...\n",
      "[nltk_data]   Unzipping corpora\\wordnet.zip.\n"
     ]
    }
   ],
   "source": [
    "from nltk.stem import WordNetLemmatizer\n",
    "nltk.download('wordnet')\n",
    "\n",
    "wl=WordNetLemmatizer()"
   ]
  },
  {
   "cell_type": "code",
   "execution_count": 25,
   "metadata": {},
   "outputs": [],
   "source": [
    "def wordnet_lemma(token_text):\n",
    "    lemma_words=[]\n",
    "    for word in token_text:\n",
    "        lemma_word = wl.lemmatize(word,pos='v')\n",
    "        lemma_words.append(lemma_word)\n",
    "        \n",
    "    return lemma_words"
   ]
  },
  {
   "cell_type": "code",
   "execution_count": 26,
   "metadata": {},
   "outputs": [],
   "source": [
    "review_data[\"lemma_words\"]=review_data[\"token_text\"].apply(lambda token_text : wordnet_lemma(token_text))"
   ]
  },
  {
   "cell_type": "code",
   "execution_count": 27,
   "metadata": {},
   "outputs": [
    {
     "data": {
      "text/html": [
       "<div>\n",
       "<style scoped>\n",
       "    .dataframe tbody tr th:only-of-type {\n",
       "        vertical-align: middle;\n",
       "    }\n",
       "\n",
       "    .dataframe tbody tr th {\n",
       "        vertical-align: top;\n",
       "    }\n",
       "\n",
       "    .dataframe thead th {\n",
       "        text-align: right;\n",
       "    }\n",
       "</style>\n",
       "<table border=\"1\" class=\"dataframe\">\n",
       "  <thead>\n",
       "    <tr style=\"text-align: right;\">\n",
       "      <th></th>\n",
       "      <th>review</th>\n",
       "      <th>sentiment</th>\n",
       "      <th>token_text</th>\n",
       "      <th>stem_words</th>\n",
       "      <th>lemma_words</th>\n",
       "    </tr>\n",
       "  </thead>\n",
       "  <tbody>\n",
       "    <tr>\n",
       "      <th>0</th>\n",
       "      <td>one of the other reviewers has mentioned that ...</td>\n",
       "      <td>positive</td>\n",
       "      <td>[one, reviewers, mentioned, watching, oz, epis...</td>\n",
       "      <td>[one, review, mention, watch, oz, episod, hook...</td>\n",
       "      <td>[one, reviewers, mention, watch, oz, episode, ...</td>\n",
       "    </tr>\n",
       "    <tr>\n",
       "      <th>1</th>\n",
       "      <td>a wonderful little production br br the filmin...</td>\n",
       "      <td>positive</td>\n",
       "      <td>[wonderful, little, production, br, br, filmin...</td>\n",
       "      <td>[wonder, littl, product, br, br, film, techniq...</td>\n",
       "      <td>[wonderful, little, production, br, br, film, ...</td>\n",
       "    </tr>\n",
       "    <tr>\n",
       "      <th>2</th>\n",
       "      <td>i thought this was a wonderful way to spend ti...</td>\n",
       "      <td>positive</td>\n",
       "      <td>[thought, wonderful, way, spend, time, hot, su...</td>\n",
       "      <td>[thought, wonder, way, spend, time, hot, summe...</td>\n",
       "      <td>[think, wonderful, way, spend, time, hot, summ...</td>\n",
       "    </tr>\n",
       "    <tr>\n",
       "      <th>3</th>\n",
       "      <td>basically there s a family where a little boy ...</td>\n",
       "      <td>negative</td>\n",
       "      <td>[basically, family, little, boy, jake, thinks,...</td>\n",
       "      <td>[basic, famili, littl, boy, jake, think, zombi...</td>\n",
       "      <td>[basically, family, little, boy, jake, think, ...</td>\n",
       "    </tr>\n",
       "    <tr>\n",
       "      <th>4</th>\n",
       "      <td>petter mattei s love in the time of money is a...</td>\n",
       "      <td>positive</td>\n",
       "      <td>[petter, mattei, love, time, money, visually, ...</td>\n",
       "      <td>[petter, mattei, love, time, money, visual, st...</td>\n",
       "      <td>[petter, mattei, love, time, money, visually, ...</td>\n",
       "    </tr>\n",
       "    <tr>\n",
       "      <th>...</th>\n",
       "      <td>...</td>\n",
       "      <td>...</td>\n",
       "      <td>...</td>\n",
       "      <td>...</td>\n",
       "      <td>...</td>\n",
       "    </tr>\n",
       "    <tr>\n",
       "      <th>9995</th>\n",
       "      <td>fun entertaining movie about wwii german spy j...</td>\n",
       "      <td>positive</td>\n",
       "      <td>[fun, entertaining, movie, wwii, german, spy, ...</td>\n",
       "      <td>[fun, entertain, movi, wwii, german, spi, juli...</td>\n",
       "      <td>[fun, entertain, movie, wwii, german, spy, jul...</td>\n",
       "    </tr>\n",
       "    <tr>\n",
       "      <th>9996</th>\n",
       "      <td>give me a break how can anyone say that this i...</td>\n",
       "      <td>negative</td>\n",
       "      <td>[give, break, anyone, say, good, hockey, movie...</td>\n",
       "      <td>[give, break, anyon, say, good, hockey, movi, ...</td>\n",
       "      <td>[give, break, anyone, say, good, hockey, movie...</td>\n",
       "    </tr>\n",
       "    <tr>\n",
       "      <th>9997</th>\n",
       "      <td>this movie is a bad movie but after watching a...</td>\n",
       "      <td>negative</td>\n",
       "      <td>[movie, bad, movie, watching, endless, series,...</td>\n",
       "      <td>[movi, bad, movi, watch, endless, seri, bad, h...</td>\n",
       "      <td>[movie, bad, movie, watch, endless, series, ba...</td>\n",
       "    </tr>\n",
       "    <tr>\n",
       "      <th>9998</th>\n",
       "      <td>this is a movie that was probably made to ente...</td>\n",
       "      <td>negative</td>\n",
       "      <td>[movie, probably, made, entertain, middle, sch...</td>\n",
       "      <td>[movi, probabl, made, entertain, middl, school...</td>\n",
       "      <td>[movie, probably, make, entertain, middle, sch...</td>\n",
       "    </tr>\n",
       "    <tr>\n",
       "      <th>9999</th>\n",
       "      <td>smashing film about film making shows the inte...</td>\n",
       "      <td>positive</td>\n",
       "      <td>[smashing, film, film, making, shows, intense,...</td>\n",
       "      <td>[smash, film, film, make, show, intens, strang...</td>\n",
       "      <td>[smash, film, film, make, show, intense, stran...</td>\n",
       "    </tr>\n",
       "  </tbody>\n",
       "</table>\n",
       "<p>10000 rows × 5 columns</p>\n",
       "</div>"
      ],
      "text/plain": [
       "                                                 review sentiment  \\\n",
       "0     one of the other reviewers has mentioned that ...  positive   \n",
       "1     a wonderful little production br br the filmin...  positive   \n",
       "2     i thought this was a wonderful way to spend ti...  positive   \n",
       "3     basically there s a family where a little boy ...  negative   \n",
       "4     petter mattei s love in the time of money is a...  positive   \n",
       "...                                                 ...       ...   \n",
       "9995  fun entertaining movie about wwii german spy j...  positive   \n",
       "9996  give me a break how can anyone say that this i...  negative   \n",
       "9997  this movie is a bad movie but after watching a...  negative   \n",
       "9998  this is a movie that was probably made to ente...  negative   \n",
       "9999  smashing film about film making shows the inte...  positive   \n",
       "\n",
       "                                             token_text  \\\n",
       "0     [one, reviewers, mentioned, watching, oz, epis...   \n",
       "1     [wonderful, little, production, br, br, filmin...   \n",
       "2     [thought, wonderful, way, spend, time, hot, su...   \n",
       "3     [basically, family, little, boy, jake, thinks,...   \n",
       "4     [petter, mattei, love, time, money, visually, ...   \n",
       "...                                                 ...   \n",
       "9995  [fun, entertaining, movie, wwii, german, spy, ...   \n",
       "9996  [give, break, anyone, say, good, hockey, movie...   \n",
       "9997  [movie, bad, movie, watching, endless, series,...   \n",
       "9998  [movie, probably, made, entertain, middle, sch...   \n",
       "9999  [smashing, film, film, making, shows, intense,...   \n",
       "\n",
       "                                             stem_words  \\\n",
       "0     [one, review, mention, watch, oz, episod, hook...   \n",
       "1     [wonder, littl, product, br, br, film, techniq...   \n",
       "2     [thought, wonder, way, spend, time, hot, summe...   \n",
       "3     [basic, famili, littl, boy, jake, think, zombi...   \n",
       "4     [petter, mattei, love, time, money, visual, st...   \n",
       "...                                                 ...   \n",
       "9995  [fun, entertain, movi, wwii, german, spi, juli...   \n",
       "9996  [give, break, anyon, say, good, hockey, movi, ...   \n",
       "9997  [movi, bad, movi, watch, endless, seri, bad, h...   \n",
       "9998  [movi, probabl, made, entertain, middl, school...   \n",
       "9999  [smash, film, film, make, show, intens, strang...   \n",
       "\n",
       "                                            lemma_words  \n",
       "0     [one, reviewers, mention, watch, oz, episode, ...  \n",
       "1     [wonderful, little, production, br, br, film, ...  \n",
       "2     [think, wonderful, way, spend, time, hot, summ...  \n",
       "3     [basically, family, little, boy, jake, think, ...  \n",
       "4     [petter, mattei, love, time, money, visually, ...  \n",
       "...                                                 ...  \n",
       "9995  [fun, entertain, movie, wwii, german, spy, jul...  \n",
       "9996  [give, break, anyone, say, good, hockey, movie...  \n",
       "9997  [movie, bad, movie, watch, endless, series, ba...  \n",
       "9998  [movie, probably, make, entertain, middle, sch...  \n",
       "9999  [smash, film, film, make, show, intense, stran...  \n",
       "\n",
       "[10000 rows x 5 columns]"
      ]
     },
     "execution_count": 27,
     "metadata": {},
     "output_type": "execute_result"
    }
   ],
   "source": [
    "review_data"
   ]
  },
  {
   "cell_type": "code",
   "execution_count": 28,
   "metadata": {},
   "outputs": [],
   "source": [
    "review_data['cleaned_text'] = review_data['stem_words'].apply(lambda text: ' '.join(text))"
   ]
  },
  {
   "cell_type": "code",
   "execution_count": 29,
   "metadata": {},
   "outputs": [
    {
     "data": {
      "text/plain": [
       "(10000, 34935)"
      ]
     },
     "execution_count": 29,
     "metadata": {},
     "output_type": "execute_result"
    }
   ],
   "source": [
    "from sklearn.feature_extraction.text import CountVectorizer\n",
    "review_vectorizer = CountVectorizer()\n",
    "\n",
    "review_features   = review_vectorizer.fit_transform(review_data['cleaned_text'])\n",
    "review_features.get_shape()"
   ]
  },
  {
   "cell_type": "code",
   "execution_count": 30,
   "metadata": {},
   "outputs": [
    {
     "data": {
      "text/plain": [
       "<10000x34935 sparse matrix of type '<class 'numpy.int64'>'\n",
       "\twith 935453 stored elements in Compressed Sparse Row format>"
      ]
     },
     "execution_count": 30,
     "metadata": {},
     "output_type": "execute_result"
    }
   ],
   "source": [
    "review_features"
   ]
  },
  {
   "cell_type": "code",
   "execution_count": 32,
   "metadata": {},
   "outputs": [],
   "source": [
    "X = review_features    #### Features\n",
    "y = review_data['sentiment']  #### Target"
   ]
  },
  {
   "cell_type": "code",
   "execution_count": 33,
   "metadata": {},
   "outputs": [],
   "source": [
    "#Using the train_test_split to create train and test sets.\n",
    "from sklearn.model_selection import train_test_split\n",
    "\n",
    "X_train, X_test, y_train, y_test = train_test_split(X, y, random_state = 47, test_size = 0.25)"
   ]
  },
  {
   "cell_type": "code",
   "execution_count": 34,
   "metadata": {},
   "outputs": [
    {
     "name": "stdout",
     "output_type": "stream",
     "text": [
      "Training set : (7500, 34935)\n",
      "Testing set : (2500, 34935)\n"
     ]
    }
   ],
   "source": [
    "print('Training set :', X_train.shape)\n",
    "print('Testing set :', X_test.shape)"
   ]
  },
  {
   "cell_type": "code",
   "execution_count": 35,
   "metadata": {},
   "outputs": [],
   "source": [
    "#Importing the Decision tree classifier from the sklearn library.\n",
    "from sklearn.tree import DecisionTreeClassifier\n",
    "\n",
    "clf = DecisionTreeClassifier(criterion = 'entropy')"
   ]
  },
  {
   "cell_type": "code",
   "execution_count": 36,
   "metadata": {},
   "outputs": [
    {
     "data": {
      "text/plain": [
       "DecisionTreeClassifier(criterion='entropy')"
      ]
     },
     "execution_count": 36,
     "metadata": {},
     "output_type": "execute_result"
    }
   ],
   "source": [
    "#Training the decision tree classifier. \n",
    "clf.fit(X_train, y_train)"
   ]
  },
  {
   "cell_type": "code",
   "execution_count": 37,
   "metadata": {},
   "outputs": [],
   "source": [
    "#Predicting labels on the test set.\n",
    "y_pred =  clf.predict(X_test)"
   ]
  },
  {
   "cell_type": "code",
   "execution_count": 38,
   "metadata": {},
   "outputs": [
    {
     "name": "stdout",
     "output_type": "stream",
     "text": [
      "Accuracy Score on train data:  1.0\n",
      "Accuracy Score on test data:  0.7164\n"
     ]
    }
   ],
   "source": [
    "#Importing the accuracy metric from sklearn.metrics library\n",
    "\n",
    "from sklearn.metrics import accuracy_score\n",
    "print('Accuracy Score on train data: ', accuracy_score(y_true=y_train, y_pred=clf.predict(X_train)))\n",
    "print('Accuracy Score on test data: ', accuracy_score(y_true=y_test, y_pred=y_pred))"
   ]
  },
  {
   "cell_type": "code",
   "execution_count": 39,
   "metadata": {},
   "outputs": [],
   "source": [
    "from sklearn.feature_extraction.text import TfidfVectorizer\n",
    "\n",
    "tfidf_review_vectorizer = TfidfVectorizer()\n",
    "tfidf_review_features = tfidf_review_vectorizer.fit_transform(review_data['cleaned_text'])"
   ]
  },
  {
   "cell_type": "code",
   "execution_count": 40,
   "metadata": {},
   "outputs": [
    {
     "data": {
      "text/plain": [
       "(10000, 34935)"
      ]
     },
     "execution_count": 40,
     "metadata": {},
     "output_type": "execute_result"
    }
   ],
   "source": [
    "tfidf_review_features.shape"
   ]
  },
  {
   "cell_type": "code",
   "execution_count": 43,
   "metadata": {},
   "outputs": [
    {
     "name": "stdout",
     "output_type": "stream",
     "text": [
      "Training set : (7500, 34935)\n",
      "Testing set : (2500, 34935)\n",
      "Accuracy Score on train data:  1.0\n",
      "Accuracy Score on test data:  0.7108\n"
     ]
    }
   ],
   "source": [
    "X = review_features    #### Features\n",
    "y = review_data['sentiment']  #### Target\n",
    "\n",
    "#Using the train_test_split to create train and test sets.\n",
    "from sklearn.model_selection import train_test_split\n",
    "\n",
    "X_train, X_test, y_train, y_test = train_test_split(X, y, random_state = 47, test_size = 0.25)\n",
    "\n",
    "print('Training set :', X_train.shape)\n",
    "print('Testing set :', X_test.shape)\n",
    "\n",
    "#Importing the Decision tree classifier from the sklearn library.\n",
    "from sklearn.tree import DecisionTreeClassifier\n",
    "\n",
    "clf = DecisionTreeClassifier(criterion = 'entropy')\n",
    "\n",
    "#Training the decision tree classifier. \n",
    "clf.fit(X_train, y_train)\n",
    "\n",
    "#Predicting labels on the test set.\n",
    "y_pred =  clf.predict(X_test)\n",
    "\n",
    "#Importing the accuracy metric from sklearn.metrics library\n",
    "\n",
    "from sklearn.metrics import accuracy_score\n",
    "print('Accuracy Score on train data: ', accuracy_score(y_true=y_train, y_pred=clf.predict(X_train)))\n",
    "print('Accuracy Score on test data: ', accuracy_score(y_true=y_test, y_pred=y_pred))"
   ]
  },
  {
   "cell_type": "code",
   "execution_count": 45,
   "metadata": {},
   "outputs": [
    {
     "name": "stdout",
     "output_type": "stream",
     "text": [
      "give me a break how can anyone say that this is a good hockey movie i know that movies tend to do a pretty p poor job of portraying hockey to the general public and yes this was made back when the u s hadn t embraced our sport to the extent is has today but really i have played hockey all my life and have watched even more and this my friends is sheer lunacy the scenes on the ice were stupefyingly bizzare the particular instance to which i am referring is the sword fight er i mean the stick fight at the end of the film during which everyone is just standing around and watching not with fascination that this is actually happening but in wonder as to who will win the duel between youngblood and his nemesis rakkie yes the story off the ice is a little better i do stress little br br i don t know maybe there is no point in going on i mean let s face it the film is right hockey is just one big battle on ice oh yeah with a little piece of vulcanized rubber bouncing around occasionally into what is loosely termed a goal youngblood is either appalling or hysterical i can t figure out which maybe someone else will have more luck \n"
     ]
    }
   ],
   "source": [
    "print(review_data['review'][9996])"
   ]
  },
  {
   "cell_type": "code",
   "execution_count": 46,
   "metadata": {},
   "outputs": [
    {
     "data": {
      "text/plain": [
       "array(['negative'], dtype=object)"
      ]
     },
     "execution_count": 46,
     "metadata": {},
     "output_type": "execute_result"
    }
   ],
   "source": [
    "clf.predict(X_test[-4])"
   ]
  },
  {
   "cell_type": "code",
   "execution_count": null,
   "metadata": {},
   "outputs": [],
   "source": []
  }
 ],
 "metadata": {
  "kernelspec": {
   "display_name": "Python 3",
   "language": "python",
   "name": "python3"
  },
  "language_info": {
   "codemirror_mode": {
    "name": "ipython",
    "version": 3
   },
   "file_extension": ".py",
   "mimetype": "text/x-python",
   "name": "python",
   "nbconvert_exporter": "python",
   "pygments_lexer": "ipython3",
   "version": "3.7.7"
  }
 },
 "nbformat": 4,
 "nbformat_minor": 4
}
